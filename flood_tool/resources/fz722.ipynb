{
 "cells": [
  {
   "cell_type": "code",
   "execution_count": 7,
   "metadata": {},
   "outputs": [
    {
     "data": {
      "text/html": [
       "<div>\n",
       "<style scoped>\n",
       "    .dataframe tbody tr th:only-of-type {\n",
       "        vertical-align: middle;\n",
       "    }\n",
       "\n",
       "    .dataframe tbody tr th {\n",
       "        vertical-align: top;\n",
       "    }\n",
       "\n",
       "    .dataframe thead th {\n",
       "        text-align: right;\n",
       "    }\n",
       "</style>\n",
       "<table border=\"1\" class=\"dataframe\">\n",
       "  <thead>\n",
       "    <tr style=\"text-align: right;\">\n",
       "      <th></th>\n",
       "      <th>postcode</th>\n",
       "      <th>sector</th>\n",
       "      <th>easting</th>\n",
       "      <th>northing</th>\n",
       "      <th>localAuthority</th>\n",
       "      <th>altitude</th>\n",
       "      <th>soilType</th>\n",
       "    </tr>\n",
       "  </thead>\n",
       "  <tbody>\n",
       "    <tr>\n",
       "      <th>0</th>\n",
       "      <td>PO7 8PR</td>\n",
       "      <td>PO7 8</td>\n",
       "      <td>469395.0</td>\n",
       "      <td>108803.0</td>\n",
       "      <td>Havant</td>\n",
       "      <td>30</td>\n",
       "      <td>Planosols</td>\n",
       "    </tr>\n",
       "    <tr>\n",
       "      <th>1</th>\n",
       "      <td>SO17 1NS</td>\n",
       "      <td>SO17 1</td>\n",
       "      <td>442771.0</td>\n",
       "      <td>114321.0</td>\n",
       "      <td>Southampton</td>\n",
       "      <td>20</td>\n",
       "      <td>Unsurveyed/Urban</td>\n",
       "    </tr>\n",
       "    <tr>\n",
       "      <th>2</th>\n",
       "      <td>TN28 8XN</td>\n",
       "      <td>TN28 8</td>\n",
       "      <td>606861.0</td>\n",
       "      <td>124689.0</td>\n",
       "      <td>Folkestone and Hythe</td>\n",
       "      <td>10</td>\n",
       "      <td>Cambisols</td>\n",
       "    </tr>\n",
       "    <tr>\n",
       "      <th>3</th>\n",
       "      <td>KT3 4JW</td>\n",
       "      <td>KT3 4</td>\n",
       "      <td>521649.0</td>\n",
       "      <td>168848.0</td>\n",
       "      <td>Kingston upon Thames</td>\n",
       "      <td>20</td>\n",
       "      <td>Unsurveyed/Urban</td>\n",
       "    </tr>\n",
       "    <tr>\n",
       "      <th>4</th>\n",
       "      <td>CT2 8AA</td>\n",
       "      <td>CT2 8</td>\n",
       "      <td>614532.0</td>\n",
       "      <td>158074.0</td>\n",
       "      <td>Canterbury</td>\n",
       "      <td>10</td>\n",
       "      <td>Unsurveyed/Urban</td>\n",
       "    </tr>\n",
       "  </tbody>\n",
       "</table>\n",
       "</div>"
      ],
      "text/plain": [
       "   postcode  sector   easting  northing        localAuthority  altitude  \\\n",
       "0   PO7 8PR   PO7 8  469395.0  108803.0                Havant        30   \n",
       "1  SO17 1NS  SO17 1  442771.0  114321.0           Southampton        20   \n",
       "2  TN28 8XN  TN28 8  606861.0  124689.0  Folkestone and Hythe        10   \n",
       "3   KT3 4JW   KT3 4  521649.0  168848.0  Kingston upon Thames        20   \n",
       "4   CT2 8AA   CT2 8  614532.0  158074.0            Canterbury        10   \n",
       "\n",
       "           soilType  \n",
       "0         Planosols  \n",
       "1  Unsurveyed/Urban  \n",
       "2         Cambisols  \n",
       "3  Unsurveyed/Urban  \n",
       "4  Unsurveyed/Urban  "
      ]
     },
     "execution_count": 7,
     "metadata": {},
     "output_type": "execute_result"
    }
   ],
   "source": [
    "import pandas as pd\n",
    "\n",
    "pc=pd.read_csv('postcodes_sampled.csv')\n",
    "pc.head()"
   ]
  },
  {
   "cell_type": "code",
   "execution_count": 8,
   "metadata": {},
   "outputs": [
    {
     "data": {
      "text/html": [
       "<div>\n",
       "<style scoped>\n",
       "    .dataframe tbody tr th:only-of-type {\n",
       "        vertical-align: middle;\n",
       "    }\n",
       "\n",
       "    .dataframe tbody tr th {\n",
       "        vertical-align: top;\n",
       "    }\n",
       "\n",
       "    .dataframe thead th {\n",
       "        text-align: right;\n",
       "    }\n",
       "</style>\n",
       "<table border=\"1\" class=\"dataframe\">\n",
       "  <thead>\n",
       "    <tr style=\"text-align: right;\">\n",
       "      <th></th>\n",
       "      <th>localAuthority</th>\n",
       "    </tr>\n",
       "    <tr>\n",
       "      <th>postcode</th>\n",
       "      <th></th>\n",
       "    </tr>\n",
       "  </thead>\n",
       "  <tbody>\n",
       "    <tr>\n",
       "      <th>PO7 8PR</th>\n",
       "      <td>Havant</td>\n",
       "    </tr>\n",
       "    <tr>\n",
       "      <th>SO17 1NS</th>\n",
       "      <td>Southampton</td>\n",
       "    </tr>\n",
       "    <tr>\n",
       "      <th>TN28 8XN</th>\n",
       "      <td>Folkestone and Hythe</td>\n",
       "    </tr>\n",
       "    <tr>\n",
       "      <th>KT3 4JW</th>\n",
       "      <td>Kingston upon Thames</td>\n",
       "    </tr>\n",
       "    <tr>\n",
       "      <th>CT2 8AA</th>\n",
       "      <td>Canterbury</td>\n",
       "    </tr>\n",
       "    <tr>\n",
       "      <th>...</th>\n",
       "      <td>...</td>\n",
       "    </tr>\n",
       "    <tr>\n",
       "      <th>SE22 8BE</th>\n",
       "      <td>Southwark</td>\n",
       "    </tr>\n",
       "    <tr>\n",
       "      <th>SW10 0JB</th>\n",
       "      <td>Kensington and Chelsea</td>\n",
       "    </tr>\n",
       "    <tr>\n",
       "      <th>HP21 9QS</th>\n",
       "      <td>Buckinghamshire</td>\n",
       "    </tr>\n",
       "    <tr>\n",
       "      <th>TN15 8NY</th>\n",
       "      <td>Tonbridge and Malling</td>\n",
       "    </tr>\n",
       "    <tr>\n",
       "      <th>WC1V 7JS</th>\n",
       "      <td>Camden</td>\n",
       "    </tr>\n",
       "  </tbody>\n",
       "</table>\n",
       "<p>40000 rows × 1 columns</p>\n",
       "</div>"
      ],
      "text/plain": [
       "                  localAuthority\n",
       "postcode                        \n",
       "PO7 8PR                   Havant\n",
       "SO17 1NS             Southampton\n",
       "TN28 8XN    Folkestone and Hythe\n",
       "KT3 4JW     Kingston upon Thames\n",
       "CT2 8AA               Canterbury\n",
       "...                          ...\n",
       "SE22 8BE               Southwark\n",
       "SW10 0JB  Kensington and Chelsea\n",
       "HP21 9QS         Buckinghamshire\n",
       "TN15 8NY   Tonbridge and Malling\n",
       "WC1V 7JS                  Camden\n",
       "\n",
       "[40000 rows x 1 columns]"
      ]
     },
     "execution_count": 8,
     "metadata": {},
     "output_type": "execute_result"
    }
   ],
   "source": [
    "Look_up_table = pc[['postcode', 'localAuthority']]\n",
    "\n",
    "Look_up_table.set_index(['postcode'], inplace=True)\n",
    "\n",
    "Look_up_table\n"
   ]
  },
  {
   "cell_type": "code",
   "execution_count": 9,
   "metadata": {},
   "outputs": [
    {
     "data": {
      "text/plain": [
       "'Havant'"
      ]
     },
     "execution_count": 9,
     "metadata": {},
     "output_type": "execute_result"
    }
   ],
   "source": [
    "LocalAuthority_read = Look_up_table[Look_up_table.index.str.startswith('PO7 8PR')]['localAuthority'][0]\n",
    "\n",
    "LocalAuthority_read"
   ]
  },
  {
   "cell_type": "code",
   "execution_count": 10,
   "metadata": {},
   "outputs": [
    {
     "data": {
      "text/plain": [
       "array([41, 72, 30, ..., 13, 83, 14])"
      ]
     },
     "execution_count": 10,
     "metadata": {},
     "output_type": "execute_result"
    }
   ],
   "source": [
    "from sklearn.preprocessing import OneHotEncoder, LabelEncoder\n",
    "\n",
    "Encode=LabelEncoder()\n",
    "local_Authority_encoded=Encode.fit_transform(pc['localAuthority'])\n",
    "\n",
    "local_Authority_encoded"
   ]
  },
  {
   "cell_type": "code",
   "execution_count": 11,
   "metadata": {},
   "outputs": [
    {
     "name": "stderr",
     "output_type": "stream",
     "text": [
      "/opt/homebrew/Caskroom/miniconda/base/envs/dsml/lib/python3.10/site-packages/sklearn/preprocessing/_label.py:115: DataConversionWarning: A column-vector y was passed when a 1d array was expected. Please change the shape of y to (n_samples, ), for example using ravel().\n",
      "  y = column_or_1d(y, warn=True)\n"
     ]
    },
    {
     "data": {
      "text/plain": [
       "array([21070, 29605, 35364, ..., 11849, 34587, 39863])"
      ]
     },
     "execution_count": 11,
     "metadata": {},
     "output_type": "execute_result"
    }
   ],
   "source": [
    "LE = LabelEncoder()\n",
    "postcode_encoded = LE.fit_transform(pc[['postcode']])\n",
    "\n",
    "postcode_encoded \n"
   ]
  },
  {
   "cell_type": "code",
   "execution_count": 12,
   "metadata": {},
   "outputs": [],
   "source": [
    "from sklearn.model_selection import train_test_split\n",
    "\n",
    "Y = pd.DataFrame(local_Authority_encoded)\n",
    "X = pd.DataFrame(postcode_encoded)\n",
    "\n",
    "X_train, X_test, Y_train, Y_test = train_test_split (X, Y, test_size=0.3, random_state=1)\n"
   ]
  },
  {
   "cell_type": "code",
   "execution_count": 13,
   "metadata": {},
   "outputs": [
    {
     "data": {
      "text/plain": [
       "0.06197716826335398"
      ]
     },
     "execution_count": 13,
     "metadata": {},
     "output_type": "execute_result"
    }
   ],
   "source": [
    "from sklearn.linear_model import LinearRegression\n",
    "\n",
    "model = LinearRegression().fit(X_train, Y_train)\n",
    "Y_pred = model.predict(X_test)\n",
    "\n",
    "model.score(X_test, Y_test)\n",
    "\n"
   ]
  },
  {
   "cell_type": "code",
   "execution_count": 19,
   "metadata": {},
   "outputs": [],
   "source": [
    "def get_easting_northing(self, postcodes):\n",
    "        \"\"\"Get a frame of OS eastings and northings from a collection\n",
    "        of input postcodes.\n",
    "\n",
    "        Parameters\n",
    "        ----------\n",
    "\n",
    "        postcodes: sequence of strs\n",
    "            Sequence of postcodes.\n",
    "\n",
    "        Returns\n",
    "        -------\n",
    "\n",
    "        pandas.DataFrame\n",
    "            DataFrame containing only OSGB36 easthing and northing indexed\n",
    "            by the input postcodes. Invalid postcodes (i.e. not in the\n",
    "            input unlabelled postcodes file) return as NaN.\n",
    "         \"\"\"\n",
    "\n",
    "        frame = self.postcodedb.copy()\n",
    "        frame = frame.set_index('postcode')\n",
    "\n",
    "        return frame.loc[postcodes, ['easting', 'northing']]"
   ]
  },
  {
   "cell_type": "code",
   "execution_count": 14,
   "metadata": {},
   "outputs": [],
   "source": [
    "class LocalAuthorityModel:\n",
    "\n",
    "    def __init__(self, path, method):\n",
    "        self.X_train, self.X_test, self.y_train, self.y_test = self.load_data(path)\n",
    "        self.model = self.create_pipeline(method)\n",
    "        self.model = self.train_model()\n",
    "        return None\n",
    "\n",
    "    def load_data(self, path):\n",
    "        # Load data\n",
    "        data = pd.read_csv(path)\n",
    "        data = data.drop_duplicates()\n",
    "        y = data.localAuthority\n",
    "        print(y.shape)\n",
    "\n",
    "\n",
    "        X = data[['postcodes']]\n",
    "        print(X.shape)\n",
    "\n",
    "        y = LabelEncoder().fit_transform(y)\n",
    "\n",
    "        return train_test_split(X, y, train_size=0.8)"
   ]
  },
  {
   "cell_type": "code",
   "execution_count": 17,
   "metadata": {},
   "outputs": [],
   "source": [
    "def create_pipeline(self, method):\n",
    "        method_dict = {1: KNeighborsClassifier()}\n",
    "        pipe = Pipeline([\n",
    "            ('scaler', None),\n",
    "            ('model', method_dict[method])\n",
    "        ])\n",
    "\n",
    "        return pipe\n",
    "\n",
    "def train_model(self):\n",
    "        grid_dict = {'scaler':[None, MinMaxScaler()],\n",
    "                    'model__n_neighbors': [1,2,3,5,10]}\n",
    "\n",
    "        search = GridSearchCV(self.model, grid_dict, cv=5)\n",
    "        search.fit(self.X_train, self.y_train)\n",
    "\n",
    "        return search.best_estimator_\n",
    "\n",
    "def predict(self, postcodes):\n",
    "        new_samples = pd.DataFrame([postcodes], index=['postcodes']).T\n",
    "        print(new_samples)\n",
    "        pred = self.model.predict(new_samples)\n",
    "\n",
    "        return pd.Series(pred, index=[(est, nth) for est, nth in\n",
    "                                    zip(postcodes)],\n",
    "                             name='localAuthority')\n"
   ]
  }
 ],
 "metadata": {
  "kernelspec": {
   "display_name": "Python 3.10.6 ('dsml')",
   "language": "python",
   "name": "python3"
  },
  "language_info": {
   "codemirror_mode": {
    "name": "ipython",
    "version": 3
   },
   "file_extension": ".py",
   "mimetype": "text/x-python",
   "name": "python",
   "nbconvert_exporter": "python",
   "pygments_lexer": "ipython3",
   "version": "3.10.6"
  },
  "orig_nbformat": 4,
  "vscode": {
   "interpreter": {
    "hash": "0a7f9549209e2246aa0bea6319b202d926c63c2853f02f4961ccd2f1204b6847"
   }
  }
 },
 "nbformat": 4,
 "nbformat_minor": 2
}
