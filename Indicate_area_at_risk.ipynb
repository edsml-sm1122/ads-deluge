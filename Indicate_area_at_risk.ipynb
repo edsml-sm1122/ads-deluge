{
 "cells": [
  {
   "cell_type": "code",
   "execution_count": 1,
   "id": "27417902",
   "metadata": {},
   "outputs": [],
   "source": [
    "import numpy as np\n",
    "import pandas as pd\n",
    "from flood_tool import tool\n",
    "from flood_tool import geo\n",
    "tool=tool.Tool()"
   ]
  },
  {
   "cell_type": "code",
   "execution_count": 2,
   "id": "ac9049b2",
   "metadata": {},
   "outputs": [],
   "source": [
    "data=pd.read_csv('flood_tool/resources/stations.csv')"
   ]
  },
  {
   "cell_type": "code",
   "execution_count": 3,
   "id": "17d719d0",
   "metadata": {},
   "outputs": [],
   "source": [
    "typical_day_df=pd.read_csv('flood_tool/resources/typical_day.csv')"
   ]
  },
  {
   "cell_type": "code",
   "execution_count": 4,
   "id": "6fc96f2d",
   "metadata": {},
   "outputs": [],
   "source": [
    "wet_day_df=pd.read_csv('flood_tool/resources/wet_day.csv')"
   ]
  },
  {
   "cell_type": "code",
   "execution_count": 5,
   "id": "b2a2fbeb",
   "metadata": {},
   "outputs": [],
   "source": [
    "house_df=pd.read_csv('flood_tool/resources/households_per_sector.csv')"
   ]
  },
  {
   "cell_type": "code",
   "execution_count": 6,
   "id": "af108b27",
   "metadata": {},
   "outputs": [],
   "source": [
    "labeldata=pd.read_csv('flood_tool/resources/postcodes_sampled.csv')"
   ]
  },
  {
   "cell_type": "code",
   "execution_count": 7,
   "id": "4dd99f35",
   "metadata": {},
   "outputs": [],
   "source": [
    "l1=typical_day_df.stationReference.unique().tolist()#find all station_reference in typical.csv"
   ]
  },
  {
   "cell_type": "code",
   "execution_count": 8,
   "id": "d4148188",
   "metadata": {},
   "outputs": [],
   "source": [
    "l2=wet_day_df.stationReference.unique().tolist()#find all station_reference in wet.csv"
   ]
  },
  {
   "cell_type": "code",
   "execution_count": 9,
   "id": "262e13a6",
   "metadata": {},
   "outputs": [],
   "source": [
    "z=list(set(l1)|set(l2))#merge all station_reference in both typical_day and wet_day "
   ]
  },
  {
   "cell_type": "code",
   "execution_count": 10,
   "id": "b7caffc6",
   "metadata": {},
   "outputs": [],
   "source": [
    "d=data.stationReference.unique().tolist()#find all station_reference in stations.csv"
   ]
  },
  {
   "cell_type": "code",
   "execution_count": 11,
   "id": "37dc3a28",
   "metadata": {},
   "outputs": [],
   "source": [
    "difference = set(z).symmetric_difference(set(d))\n",
    "list_difference = list(difference)#find the missing stationReference in stations.csv(soem of typical_day's \n",
    "#and wet_day's stationreference are not in stations.csv)"
   ]
  },
  {
   "cell_type": "code",
   "execution_count": 12,
   "id": "6d8ff0a8",
   "metadata": {},
   "outputs": [],
   "source": [
    "def findrow(i):#parameter:a station's stationReference\n",
    "    url='https://environment.data.gov.uk/flood-monitoring/id/stations/'+i\n",
    "    dfurl=pd.read_json(url)\n",
    "    stationName=np.NaN\n",
    "    if 'label' in dfurl.index:\n",
    "        stationName=dfurl.loc['label']['items']\n",
    "    latitude=np.NaN\n",
    "    if 'lat' in dfurl.index:\n",
    "         latitude=dfurl.loc['lat']['items']\n",
    "    longitude=np.NaN\n",
    "    if 'long' in dfurl.index:\n",
    "        longitude=dfurl.loc['long']['items']\n",
    "    maxOnRecord=np.NaN\n",
    "    minOnRecord=np.NaN\n",
    "    typicalRangeHigh=np.NaN\n",
    "    typicalRangeLow=np.NaN\n",
    "    if 'stageScale' in dfurl.index:\n",
    "        if dfurl.loc['stageScale']['items'] != np.NaN:\n",
    "            if 'typicalRangeHigh' in pd.read_json(url+'/stageScale').index :\n",
    "                typicalRangeHigh=pd.read_json(url+'/stageScale').loc['typicalRangeHigh']['items']\n",
    "                typicalRangeLow=pd.read_json(url+'/stageScale').loc['typicalRangeLow']['items']\n",
    "                maxOnRecord=pd.read_json(url+'/stageScale').loc['maxOnRecord']['items']['value']\n",
    "                minOnRecord=pd.read_json(url+'/stageScale').loc['minOnRecord']['items']['value']\n",
    "\n",
    "    return pd.DataFrame(data={'stationReference':i,'stationName':[stationName],'latitude':[latitude],\n",
    "                                    'longitude':[longitude],\n",
    "                                    'maxOnRecord':[maxOnRecord],'minOnRecord':[minOnRecord],\n",
    "                                    'typicalRangeHigh':[typicalRangeHigh],\n",
    "                                   'typicalRangeLow':[typicalRangeLow]})\n",
    "\n",
    "#return a row which has the same form as the stations.csv"
   ]
  },
  {
   "cell_type": "code",
   "execution_count": 13,
   "id": "f461e421",
   "metadata": {},
   "outputs": [],
   "source": [
    "findrow_df = pd.DataFrame(columns=['stationReference','stationName','latitude','longitude','maxOnRecord','minOnRecord',\n",
    "                                   'typicalRangeHigh','typicalRangeLow'])#create an empty dataframe which column is the same as stations.csv\n",
    "for i in list_difference:\n",
    "    findrow_df=pd.concat([findrow_df, findrow(i)], axis=0)#merge all the missing stationrefrence's row into a dataframe"
   ]
  },
  {
   "cell_type": "code",
   "execution_count": 14,
   "id": "3af979c2",
   "metadata": {},
   "outputs": [],
   "source": [
    "df=pd.concat([data.copy(),findrow_df],axis=0 ,ignore_index=True)#merge the stations.csv and findrow_df"
   ]
  },
  {
   "cell_type": "code",
   "execution_count": 15,
   "id": "39698489",
   "metadata": {},
   "outputs": [
    {
     "data": {
      "text/html": [
       "<div>\n",
       "<style scoped>\n",
       "    .dataframe tbody tr th:only-of-type {\n",
       "        vertical-align: middle;\n",
       "    }\n",
       "\n",
       "    .dataframe tbody tr th {\n",
       "        vertical-align: top;\n",
       "    }\n",
       "\n",
       "    .dataframe thead th {\n",
       "        text-align: right;\n",
       "    }\n",
       "</style>\n",
       "<table border=\"1\" class=\"dataframe\">\n",
       "  <thead>\n",
       "    <tr style=\"text-align: right;\">\n",
       "      <th></th>\n",
       "      <th>stationReference</th>\n",
       "      <th>stationName</th>\n",
       "      <th>latitude</th>\n",
       "      <th>longitude</th>\n",
       "      <th>maxOnRecord</th>\n",
       "      <th>minOnRecord</th>\n",
       "      <th>typicalRangeHigh</th>\n",
       "      <th>typicalRangeLow</th>\n",
       "    </tr>\n",
       "  </thead>\n",
       "  <tbody>\n",
       "    <tr>\n",
       "      <th>0</th>\n",
       "      <td>000008</td>\n",
       "      <td>Rainfall station</td>\n",
       "      <td>53.480556</td>\n",
       "      <td>-1.441674</td>\n",
       "      <td>NaN</td>\n",
       "      <td>NaN</td>\n",
       "      <td>NaN</td>\n",
       "      <td>NaN</td>\n",
       "    </tr>\n",
       "    <tr>\n",
       "      <th>1</th>\n",
       "      <td>000028</td>\n",
       "      <td>Rainfall station</td>\n",
       "      <td>53.500289</td>\n",
       "      <td>-1.673575</td>\n",
       "      <td>NaN</td>\n",
       "      <td>NaN</td>\n",
       "      <td>NaN</td>\n",
       "      <td>NaN</td>\n",
       "    </tr>\n",
       "    <tr>\n",
       "      <th>2</th>\n",
       "      <td>000075TP</td>\n",
       "      <td>Rainfall station</td>\n",
       "      <td>51.084022</td>\n",
       "      <td>-0.214597</td>\n",
       "      <td>NaN</td>\n",
       "      <td>NaN</td>\n",
       "      <td>NaN</td>\n",
       "      <td>NaN</td>\n",
       "    </tr>\n",
       "    <tr>\n",
       "      <th>3</th>\n",
       "      <td>000076TP</td>\n",
       "      <td>Rainfall station</td>\n",
       "      <td>51.701508</td>\n",
       "      <td>-0.747539</td>\n",
       "      <td>NaN</td>\n",
       "      <td>NaN</td>\n",
       "      <td>NaN</td>\n",
       "      <td>NaN</td>\n",
       "    </tr>\n",
       "    <tr>\n",
       "      <th>4</th>\n",
       "      <td>000180TP</td>\n",
       "      <td>Rainfall station</td>\n",
       "      <td>51.618838</td>\n",
       "      <td>0.173236</td>\n",
       "      <td>NaN</td>\n",
       "      <td>NaN</td>\n",
       "      <td>NaN</td>\n",
       "      <td>NaN</td>\n",
       "    </tr>\n",
       "    <tr>\n",
       "      <th>...</th>\n",
       "      <td>...</td>\n",
       "      <td>...</td>\n",
       "      <td>...</td>\n",
       "      <td>...</td>\n",
       "      <td>...</td>\n",
       "      <td>...</td>\n",
       "      <td>...</td>\n",
       "      <td>...</td>\n",
       "    </tr>\n",
       "    <tr>\n",
       "      <th>2228</th>\n",
       "      <td>3401TH_AOD</td>\n",
       "      <td>Teddington Lock Head(AOD)</td>\n",
       "      <td>51.429574</td>\n",
       "      <td>-0.318329</td>\n",
       "      <td>NaN</td>\n",
       "      <td>NaN</td>\n",
       "      <td>NaN</td>\n",
       "      <td>NaN</td>\n",
       "    </tr>\n",
       "    <tr>\n",
       "      <th>2229</th>\n",
       "      <td>L3370</td>\n",
       "      <td>Spurn Point</td>\n",
       "      <td>53.577909</td>\n",
       "      <td>0.107029</td>\n",
       "      <td>NaN</td>\n",
       "      <td>NaN</td>\n",
       "      <td>NaN</td>\n",
       "      <td>NaN</td>\n",
       "    </tr>\n",
       "    <tr>\n",
       "      <th>2230</th>\n",
       "      <td>E1997</td>\n",
       "      <td>Orton Sluice</td>\n",
       "      <td>52.560077</td>\n",
       "      <td>-0.281816</td>\n",
       "      <td>3.083</td>\n",
       "      <td>-0.012</td>\n",
       "      <td>2.26</td>\n",
       "      <td>0.911</td>\n",
       "    </tr>\n",
       "    <tr>\n",
       "      <th>2231</th>\n",
       "      <td>E72524</td>\n",
       "      <td>Hinkley Point</td>\n",
       "      <td>51.211000</td>\n",
       "      <td>-3.131000</td>\n",
       "      <td>NaN</td>\n",
       "      <td>NaN</td>\n",
       "      <td>NaN</td>\n",
       "      <td>NaN</td>\n",
       "    </tr>\n",
       "    <tr>\n",
       "      <th>2232</th>\n",
       "      <td>248965TP</td>\n",
       "      <td>Rainfall station</td>\n",
       "      <td>51.792696</td>\n",
       "      <td>-2.007920</td>\n",
       "      <td>NaN</td>\n",
       "      <td>NaN</td>\n",
       "      <td>NaN</td>\n",
       "      <td>NaN</td>\n",
       "    </tr>\n",
       "  </tbody>\n",
       "</table>\n",
       "<p>2233 rows × 8 columns</p>\n",
       "</div>"
      ],
      "text/plain": [
       "     stationReference                stationName   latitude  longitude  \\\n",
       "0              000008           Rainfall station  53.480556  -1.441674   \n",
       "1              000028           Rainfall station  53.500289  -1.673575   \n",
       "2            000075TP           Rainfall station  51.084022  -0.214597   \n",
       "3            000076TP           Rainfall station  51.701508  -0.747539   \n",
       "4            000180TP           Rainfall station  51.618838   0.173236   \n",
       "...               ...                        ...        ...        ...   \n",
       "2228       3401TH_AOD  Teddington Lock Head(AOD)  51.429574  -0.318329   \n",
       "2229            L3370                Spurn Point  53.577909   0.107029   \n",
       "2230            E1997               Orton Sluice  52.560077  -0.281816   \n",
       "2231           E72524              Hinkley Point  51.211000  -3.131000   \n",
       "2232         248965TP           Rainfall station  51.792696  -2.007920   \n",
       "\n",
       "      maxOnRecord  minOnRecord  typicalRangeHigh  typicalRangeLow  \n",
       "0             NaN          NaN               NaN              NaN  \n",
       "1             NaN          NaN               NaN              NaN  \n",
       "2             NaN          NaN               NaN              NaN  \n",
       "3             NaN          NaN               NaN              NaN  \n",
       "4             NaN          NaN               NaN              NaN  \n",
       "...           ...          ...               ...              ...  \n",
       "2228          NaN          NaN               NaN              NaN  \n",
       "2229          NaN          NaN               NaN              NaN  \n",
       "2230        3.083       -0.012              2.26            0.911  \n",
       "2231          NaN          NaN               NaN              NaN  \n",
       "2232          NaN          NaN               NaN              NaN  \n",
       "\n",
       "[2233 rows x 8 columns]"
      ]
     },
     "execution_count": 15,
     "metadata": {},
     "output_type": "execute_result"
    }
   ],
   "source": [
    "df#df contains all the stations occurred in typical_day and wet_day"
   ]
  },
  {
   "cell_type": "code",
   "execution_count": 16,
   "id": "e77b71c8",
   "metadata": {},
   "outputs": [],
   "source": [
    "def indicate_areas_at_risk(data):#parameter:any day's data\n",
    "    stations_filled=df\n",
    "    mean_typicalRangeHigh_randt=stations_filled.typicalRangeHigh.mean()#find the mean typicalRangeHigh of river,tidal \n",
    "    at_risk=[]\n",
    "    try:\n",
    "        for i in range(data.shape[0]):\n",
    "            if data.loc[i].parameter=='rainfall':\n",
    "                if float(data.loc[i].value)>=12.5:#we set any rainfall value reaches the violent level of rainfall is been risky\n",
    "                    at_risk.append(data.loc[i].stationReference)\n",
    "            else:\n",
    "                if stations_filled[stations_filled.stationReference==data.loc[i].stationReference].typicalRangeHigh is np.NaN:\n",
    "                    #if the station doesn't have typicalRangeHigh(which is quite normal) we use the mean value as a threshold\n",
    "                    #above that threshold will be considered as risky\n",
    "                    if float(data.loc[i].value)>=mean_typicalRangeHigh_randt:\n",
    "                        at_risk.append(data.loc[i].stationReference)\n",
    "                else:\n",
    "                    if float(data.loc[i].value)>=(stations_filled[stations_filled.stationReference==data.loc[i].stationReference].typicalRangeHigh.values[0]):\n",
    "                        #set any tidal or river value above that station's typicalRangeHigh as risky\n",
    "                        at_risk.append(data.loc[i].stationReference)\n",
    "    except ValueError:        \n",
    "        return at_risk#return stationReference            "
   ]
  },
  {
   "cell_type": "code",
   "execution_count": 17,
   "id": "e39fa52c",
   "metadata": {},
   "outputs": [],
   "source": [
    "typical_day_risky_stationReference=indicate_areas_at_risk(typical_day_df)"
   ]
  },
  {
   "cell_type": "code",
   "execution_count": 18,
   "id": "1085a344",
   "metadata": {},
   "outputs": [],
   "source": [
    "wet_day_risky_stationReference=indicate_areas_at_risk(wet_day_df)"
   ]
  },
  {
   "cell_type": "code",
   "execution_count": 19,
   "id": "3cfa1586",
   "metadata": {},
   "outputs": [],
   "source": [
    "typical_day_risky_stationReference#no stations are detected as risky in the typical data"
   ]
  },
  {
   "cell_type": "code",
   "execution_count": 20,
   "id": "c0c69046",
   "metadata": {},
   "outputs": [
    {
     "data": {
      "text/plain": [
       "['2660', '2830']"
      ]
     },
     "execution_count": 20,
     "metadata": {},
     "output_type": "execute_result"
    }
   ],
   "source": [
    "wet_day_risky_stationReference"
   ]
  },
  {
   "cell_type": "code",
   "execution_count": 21,
   "id": "4d7bc615",
   "metadata": {},
   "outputs": [],
   "source": [
    "def impact_of_areas_at_risk(station_reference):#compute the impact of a given station reference\n",
    "    lat=df[df.stationReference==station_reference].latitude.values\n",
    "    long=df[df.stationReference==station_reference].longitude.values\n",
    "    easting=geo.get_easting_northing_from_gps_lat_long(lat,long)[0]\n",
    "    northing=geo.get_easting_northing_from_gps_lat_long(lat,long)[1]\n",
    "    postcode=tool.get_postcode_from_OSGB36(easting, long).values[0]\n",
    "    average_households=house_df[house_df['postcode sector']==postcode[:-2]].households/house_df[house_df['postcode sector']==postcode[:-2]]['number of postcode units']\n",
    "    impact=(average_households*labeldata[labeldata.postcode==postcode].medianPrice.values).values\n",
    "    return impact[0]"
   ]
  },
  {
   "cell_type": "code",
   "execution_count": 22,
   "id": "98b6314e",
   "metadata": {},
   "outputs": [
    {
     "data": {
      "text/plain": [
       "[]"
      ]
     },
     "execution_count": 22,
     "metadata": {},
     "output_type": "execute_result"
    }
   ],
   "source": [
    "impact_typical_day=[]\n",
    "try:\n",
    "    for i in typical_day_risky_stationReference:\n",
    "        impact_typical_day.append(impact_of_areas_at_risk(i))\n",
    "except TypeError:\n",
    "    None\n",
    "impact_typical_day        "
   ]
  },
  {
   "cell_type": "code",
   "execution_count": 23,
   "id": "88da79e4",
   "metadata": {},
   "outputs": [
    {
     "data": {
      "text/plain": [
       "[2200154.1666666665, 4590502.994011977]"
      ]
     },
     "execution_count": 23,
     "metadata": {},
     "output_type": "execute_result"
    }
   ],
   "source": [
    "impact_wet_day=[]\n",
    "try:\n",
    "    for i in wet_day_risky_stationReference:\n",
    "        impact_wet_day.append(impact_of_areas_at_risk(i))\n",
    "except TypeError:\n",
    "    None\n",
    "impact_wet_day"
   ]
  },
  {
   "cell_type": "code",
   "execution_count": 24,
   "id": "0e22c021",
   "metadata": {},
   "outputs": [],
   "source": [
    "wet_lat=[]\n",
    "wet_long=[]\n",
    "for i in wet_day_risky_stationReference:\n",
    "    wet_lat.append(df[df.stationReference==i].latitude.values[0])\n",
    "    wet_long.append(df[df.stationReference==i].longitude.values[0])"
   ]
  },
  {
   "cell_type": "code",
   "execution_count": 25,
   "id": "a8d3d79a",
   "metadata": {},
   "outputs": [],
   "source": [
    "risky_area_df=pd.DataFrame(data={'stationReference':wet_day_risky_stationReference,'lat':wet_lat,'long':wet_long,'impact':impact_wet_day})"
   ]
  },
  {
   "cell_type": "code",
   "execution_count": 26,
   "id": "ddbe25e3",
   "metadata": {},
   "outputs": [
    {
     "data": {
      "text/html": [
       "<div>\n",
       "<style scoped>\n",
       "    .dataframe tbody tr th:only-of-type {\n",
       "        vertical-align: middle;\n",
       "    }\n",
       "\n",
       "    .dataframe tbody tr th {\n",
       "        vertical-align: top;\n",
       "    }\n",
       "\n",
       "    .dataframe thead th {\n",
       "        text-align: right;\n",
       "    }\n",
       "</style>\n",
       "<table border=\"1\" class=\"dataframe\">\n",
       "  <thead>\n",
       "    <tr style=\"text-align: right;\">\n",
       "      <th></th>\n",
       "      <th>stationReference</th>\n",
       "      <th>lat</th>\n",
       "      <th>long</th>\n",
       "      <th>impact</th>\n",
       "    </tr>\n",
       "  </thead>\n",
       "  <tbody>\n",
       "    <tr>\n",
       "      <th>0</th>\n",
       "      <td>2660</td>\n",
       "      <td>51.907359</td>\n",
       "      <td>-2.061419</td>\n",
       "      <td>2.200154e+06</td>\n",
       "    </tr>\n",
       "    <tr>\n",
       "      <th>1</th>\n",
       "      <td>2830</td>\n",
       "      <td>52.735118</td>\n",
       "      <td>-2.960681</td>\n",
       "      <td>4.590503e+06</td>\n",
       "    </tr>\n",
       "  </tbody>\n",
       "</table>\n",
       "</div>"
      ],
      "text/plain": [
       "  stationReference        lat      long        impact\n",
       "0             2660  51.907359 -2.061419  2.200154e+06\n",
       "1             2830  52.735118 -2.960681  4.590503e+06"
      ]
     },
     "execution_count": 26,
     "metadata": {},
     "output_type": "execute_result"
    }
   ],
   "source": [
    "risky_area_df#finally put the risky stationReference, lat, long and impact into a dataframe for visualizition"
   ]
  },
  {
   "cell_type": "code",
   "execution_count": 27,
   "id": "c28965be",
   "metadata": {},
   "outputs": [],
   "source": [
    "#risky_area_df.to_csv('risky_area.csv',index=False)"
   ]
  }
 ],
 "metadata": {
  "kernelspec": {
   "display_name": "Python 3 (ipykernel)",
   "language": "python",
   "name": "python3"
  },
  "language_info": {
   "codemirror_mode": {
    "name": "ipython",
    "version": 3
   },
   "file_extension": ".py",
   "mimetype": "text/x-python",
   "name": "python",
   "nbconvert_exporter": "python",
   "pygments_lexer": "ipython3",
   "version": "3.10.6"
  }
 },
 "nbformat": 4,
 "nbformat_minor": 5
}
