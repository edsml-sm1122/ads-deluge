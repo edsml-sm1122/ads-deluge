{
 "cells": [
  {
   "cell_type": "code",
   "execution_count": 2,
   "id": "7dad9f7f",
   "metadata": {},
   "outputs": [
    {
     "name": "stdout",
     "output_type": "stream",
     "text": [
      "accuracy of SVC 0.9048\n",
      "accuracy of Decision Tree 0.9008\n",
      "accuracy of KNN 0.9264\n",
      "Regression of knn 0.30043432051766017\n",
      "Regression of Dec_tree -0.04051061886165819\n",
      "Regression of SVC -0.035691518923697485\n"
     ]
    }
   ],
   "source": [
    "\n",
    "import pandas as pd\n",
    "import numpy as np\n",
    "import matplotlib.pyplot as plt\n",
    "from sklearn.compose import ColumnTransformer\n",
    "from sklearn.model_selection import train_test_split, cross_validate, cross_val_score\n",
    "from sklearn.preprocessing import MinMaxScaler, OneHotEncoder\n",
    "from sklearn.svm import SVC\n",
    "from sklearn.svm import SVR\n",
    "from sklearn.neighbors import KNeighborsClassifier\n",
    "from sklearn.neighbors import KNeighborsRegressor\n",
    "from sklearn.tree import DecisionTreeClassifier\n",
    "from sklearn.tree import DecisionTreeRegressor\n",
    "from sklearn.metrics import accuracy_score, precision_score, recall_score, f1_score\n",
    "\n",
    "df = pd.read_csv('postcodes_sampled.csv') # read the data from a csv file\n",
    "y = df.riskLabel # define you target as the column you want to predit\n",
    "X = df.drop(columns=['postcode', 'sector', 'localAuthority', 'riskLabel', 'medianPrice']) # this if you feature column\n",
    "\n",
    "X_train, X_test, y_train, y_test = train_test_split(X, y, train_size=0.75, random_state=42) #Train_test_split\n",
    "\n",
    "preproc = ColumnTransformer([\n",
    "    ('num_transformer', MinMaxScaler(), X_train.select_dtypes(include=np.number).columns),\n",
    "    ('cat_transformer', OneHotEncoder(sparse=False), X_train.select_dtypes(exclude=np.number).columns) \n",
    "]) # Column transformer performing pipeline on numerical and categorical data\n",
    "\n",
    "X_train = preproc.fit_transform(X_train) # fit & transform \n",
    "\n",
    "svc = SVC(C=0.03, kernel='rbf')\n",
    "svc_reg = SVR()\n",
    "\n",
    "knn = KNeighborsClassifier()\n",
    "knn_reg = KNeighborsRegressor()\n",
    "\n",
    "tree = DecisionTreeClassifier()\n",
    "tree_reg = DecisionTreeRegressor()\n",
    "\n",
    "svc.fit(X_train, y_train)\n",
    "knn.fit(X_train, y_train)\n",
    "tree.fit(X_train, y_train)\n",
    "\n",
    "knn_reg.fit(X_train,y_train)\n",
    "tree_reg.fit(X_train,y_train)\n",
    "svc_reg.fit(X_train,y_train)\n",
    "\n",
    "X_test = preproc.transform(X_test)\n",
    "\n",
    "knn_reg.score(X_test,y_test)\n",
    "tree_reg.score(X_test,y_test)\n",
    "svc_reg.score(X_test,y_test)\n",
    "\n",
    "y_predsvc = svc.predict(X_test)\n",
    "y_predtree = tree.predict(X_test)\n",
    "y_predknn = knn.predict(X_test)\n",
    "\n",
    "print(f'accuracy of SVC {accuracy_score(y_test, y_predsvc)}')\n",
    "print(f'accuracy of Decision Tree {accuracy_score(y_test, y_predtree)}')\n",
    "print(f'accuracy of KNN {accuracy_score(y_test, y_predknn)}')\n",
    "print(f'Regression of knn {knn_reg.score(X_test,y_test)}')\n",
    "print(f'Regression of Dec_tree {tree_reg.score(X_test,y_test)}')\n",
    "print(f'Regression of SVC {svc_reg.score(X_test,y_test)}')"
   ]
  },
  {
   "cell_type": "code",
   "execution_count": null,
   "id": "f7ebc218",
   "metadata": {},
   "outputs": [],
   "source": []
  },
  {
   "cell_type": "code",
   "execution_count": null,
   "id": "09f3937a",
   "metadata": {},
   "outputs": [],
   "source": []
  },
  {
   "cell_type": "code",
   "execution_count": null,
   "id": "97811e3d",
   "metadata": {},
   "outputs": [],
   "source": []
  }
 ],
 "metadata": {
  "kernelspec": {
   "display_name": "Python 3 (ipykernel)",
   "language": "python",
   "name": "python3"
  },
  "language_info": {
   "codemirror_mode": {
    "name": "ipython",
    "version": 3
   },
   "file_extension": ".py",
   "mimetype": "text/x-python",
   "name": "python",
   "nbconvert_exporter": "python",
   "pygments_lexer": "ipython3",
   "version": "3.9.13"
  }
 },
 "nbformat": 4,
 "nbformat_minor": 5
}
